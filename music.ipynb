{
 "cells": [
  {
   "cell_type": "code",
   "execution_count": 6,
   "metadata": {},
   "outputs": [],
   "source": [
    "import os\n",
    "import json\n",
    "\n",
    "# iterate through ./assets/music and create a json file with the music name as the key and the url as the value\n",
    "# http://skanderayoub.github.io/imissmyhogwarts2/assets/music/\n",
    "music_files = []\n",
    "for file in os.listdir('./assets/music'):\n",
    "    music_files.append({\n",
    "        'name': file,\n",
    "        'url': f'http://skanderayoub.github.io/imissmyhogwarts2/assets/music/{file}'\n",
    "    })\n",
    "\n",
    "with open('music.json', 'w') as f:\n",
    "    json.dump(music_files, f)\n",
    "\n"
   ]
  }
 ],
 "metadata": {
  "kernelspec": {
   "display_name": "flask",
   "language": "python",
   "name": "python3"
  },
  "language_info": {
   "codemirror_mode": {
    "name": "ipython",
    "version": 3
   },
   "file_extension": ".py",
   "mimetype": "text/x-python",
   "name": "python",
   "nbconvert_exporter": "python",
   "pygments_lexer": "ipython3",
   "version": "3.11.10"
  }
 },
 "nbformat": 4,
 "nbformat_minor": 2
}
