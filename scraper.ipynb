{
 "cells": [
  {
   "cell_type": "code",
   "execution_count": 2,
   "metadata": {},
   "outputs": [],
   "source": [
    "from bs4 import BeautifulSoup\n",
    "import requests\n",
    "import webbrowser\n",
    "from urllib.parse import urljoin, unquote\n",
    "import json\n",
    "\n",
    "# Step 1: Send an HTTP request to the webpage\n",
    "url = 'https://archive.org/download/hogwarts-legacy-voice-files'  # Replace with the URL you want to scrape\n",
    "response = requests.get(url)\n",
    "\n",
    "# Step 2: Parse the HTML content\n",
    "soup = BeautifulSoup(response.content, 'html.parser')\n"
   ]
  },
  {
   "cell_type": "code",
   "execution_count": 3,
   "metadata": {},
   "outputs": [],
   "source": [
    "# Extract string between /download/ and .rar/\n",
    "def extract_string_between(text, start, end):\n",
    "    start_index = text.find(start) + len(start)\n",
    "    end_index = text.find(end, start_index)\n",
    "    return text[start_index:end_index]\n",
    "\n",
    "# Step 3: Find all <a> tags containing the text \"View content\"\n",
    "folders = []\n",
    "for a_tag in soup.find_all('a', string=\"View Contents\"):\n",
    "    href = a_tag.get('href')\n",
    "    if href:\n",
    "        # Convert relative URLs to absolute URLs\n",
    "        full_url = urljoin(url, href)\n",
    "        extracted_string = extract_string_between(full_url, '/download/', '.rar/')\n",
    "        folders.append(extracted_string)\n"
   ]
  },
  {
   "cell_type": "code",
   "execution_count": 4,
   "metadata": {},
   "outputs": [],
   "source": [
    "url2 = 'https://ia601601.us.archive.org/view_archive.php?archive=/29/items/hogwarts-legacy-voice-files/'"
   ]
  },
  {
   "cell_type": "code",
   "execution_count": 5,
   "metadata": {},
   "outputs": [],
   "source": [
    "def parseUrl(url):\n",
    "    response = requests.get(url)\n",
    "    return BeautifulSoup(response.content, 'html.parser')"
   ]
  },
  {
   "cell_type": "markdown",
   "metadata": {},
   "source": [
    "# Save links json file\n",
    "# Create a dictionary\n",
    "data = {}\n",
    "for folder in folders:\n",
    "    data[unquote(folder)] = []\n",
    "    final_link = url2 + folder + \".rar\"\n",
    "    soup = parseUrl(final_link)\n",
    "    for a_tag in soup.find_all('a'):\n",
    "        href = a_tag.get('href')\n",
    "        if href:\n",
    "            # Convert relative URLs to absolute URLs\n",
    "            urls = urljoin(url, href)\n",
    "            if urls.endswith(\".wav\"):\n",
    "                data[unquote(folder)].append(urls)  \n",
    "\n",
    "# Save the dictionary to a JSON file\n",
    "with open('links.json', 'w') as file:\n",
    "    json.dump(data, file, indent=4)"
   ]
  },
  {
   "cell_type": "code",
   "execution_count": null,
   "metadata": {},
   "outputs": [
    {
     "data": {
      "text/plain": [
       "{'Hogwarts Legacy (Study Themes from the Original Video Game Soundtrack)': ['https://eta.vgmtreasurechest.com/soundtracks/hogwarts-legacy-study-themes-from-the-original-video-game-soundtrack-2023/ynlgzwvomi/28.%20The%20Observation%20Deck.mp3',\n",
       "  'https://eta.vgmtreasurechest.com/soundtracks/hogwarts-legacy-study-themes-from-the-original-video-game-soundtrack-2023/sbggxvlify/02.%20Sorting%20Hat%20Ceremony.mp3',\n",
       "  'https://eta.vgmtreasurechest.com/soundtracks/hogwarts-legacy-study-themes-from-the-original-video-game-soundtrack-2023/wztmmqemmc/14.%20Hall%20of%20the%20Keepers.mp3',\n",
       "  'https://eta.vgmtreasurechest.com/soundtracks/hogwarts-legacy-study-themes-from-the-original-video-game-soundtrack-2023/qoewxbygal/30.%20Meeting%20with%20Professor%20Weasley.mp3',\n",
       "  'https://eta.vgmtreasurechest.com/soundtracks/hogwarts-legacy-study-themes-from-the-original-video-game-soundtrack-2023/dojxvvyewa/41.%20Gringotts%20Vault.mp3',\n",
       "  'https://eta.vgmtreasurechest.com/soundtracks/hogwarts-legacy-study-themes-from-the-original-video-game-soundtrack-2023/gmhqrhzcdo/33.%20An%20Intense%20Aversion.mp3',\n",
       "  'https://eta.vgmtreasurechest.com/soundtracks/hogwarts-legacy-study-themes-from-the-original-video-game-soundtrack-2023/fqjmeeihok/13.%20Aire%20on%20the%20Side%20of%20Love.mp3',\n",
       "  'https://eta.vgmtreasurechest.com/soundtracks/hogwarts-legacy-study-themes-from-the-original-video-game-soundtrack-2023/xvcqttbjxw/05.%20Hufflepuff%20Common%20Room.mp3',\n",
       "  'https://eta.vgmtreasurechest.com/soundtracks/hogwarts-legacy-study-themes-from-the-original-video-game-soundtrack-2023/bjzennxklq/31.%20Caring%20for%20a%20Puffskein.mp3',\n",
       "  'https://eta.vgmtreasurechest.com/soundtracks/hogwarts-legacy-study-themes-from-the-original-video-game-soundtrack-2023/nkjoyhuqgw/17.%20A%20Trick%20of%20the%20Light.mp3',\n",
       "  'https://eta.vgmtreasurechest.com/soundtracks/hogwarts-legacy-study-themes-from-the-original-video-game-soundtrack-2023/egnomycjdz/36.%20The%20Arrival.mp3',\n",
       "  'https://eta.vgmtreasurechest.com/soundtracks/hogwarts-legacy-study-themes-from-the-original-video-game-soundtrack-2023/ukjvgociqz/09.%20Focus%20on%20What%20You%20Need.mp3',\n",
       "  'https://eta.vgmtreasurechest.com/soundtracks/hogwarts-legacy-study-themes-from-the-original-video-game-soundtrack-2023/sjxjmsjirc/34.%20Dance%20of%20the%20Mooncalves.mp3',\n",
       "  'https://eta.vgmtreasurechest.com/soundtracks/hogwarts-legacy-study-themes-from-the-original-video-game-soundtrack-2023/vcmixjpsiw/04.%20Gryffindor%20Common%20Room.mp3',\n",
       "  'https://eta.vgmtreasurechest.com/soundtracks/hogwarts-legacy-study-themes-from-the-original-video-game-soundtrack-2023/mywgpkzwaa/29.%20Potions%20Class.mp3',\n",
       "  'https://eta.vgmtreasurechest.com/soundtracks/hogwarts-legacy-study-themes-from-the-original-video-game-soundtrack-2023/btpnjtabxc/08.%20Hogwarts%27%20Best%20%26%20Brightest.mp3',\n",
       "  'https://eta.vgmtreasurechest.com/soundtracks/hogwarts-legacy-study-themes-from-the-original-video-game-soundtrack-2023/puzolnliax/06.%20Ravenclaw%20Common%20Room.mp3',\n",
       "  'https://eta.vgmtreasurechest.com/soundtracks/hogwarts-legacy-study-themes-from-the-original-video-game-soundtrack-2023/okbaxkgnbi/35.%20Central%20Tower.mp3',\n",
       "  'https://eta.vgmtreasurechest.com/soundtracks/hogwarts-legacy-study-themes-from-the-original-video-game-soundtrack-2023/fbeqgcocnp/11.%20How%20to%20Care%20for%20a%20Beast.mp3',\n",
       "  'https://eta.vgmtreasurechest.com/soundtracks/hogwarts-legacy-study-themes-from-the-original-video-game-soundtrack-2023/mnvsqsddmw/40.%20Submerged.mp3',\n",
       "  'https://eta.vgmtreasurechest.com/soundtracks/hogwarts-legacy-study-themes-from-the-original-video-game-soundtrack-2023/lsshkxzchr/32.%20Friendship%20to%20Be.mp3',\n",
       "  'https://eta.vgmtreasurechest.com/soundtracks/hogwarts-legacy-study-themes-from-the-original-video-game-soundtrack-2023/bccwjmiapa/38.%20A%20Forgotten%20Mystery.mp3',\n",
       "  'https://eta.vgmtreasurechest.com/soundtracks/hogwarts-legacy-study-themes-from-the-original-video-game-soundtrack-2023/zybaymfkfb/15.%20Morning%20at%20Marunweem%20Lake.mp3',\n",
       "  'https://eta.vgmtreasurechest.com/soundtracks/hogwarts-legacy-study-themes-from-the-original-video-game-soundtrack-2023/ojvogsndnh/07.%20Honeydukes.mp3',\n",
       "  'https://eta.vgmtreasurechest.com/soundtracks/hogwarts-legacy-study-themes-from-the-original-video-game-soundtrack-2023/bktzepujxw/23.%20The%20Escape.mp3',\n",
       "  'https://eta.vgmtreasurechest.com/soundtracks/hogwarts-legacy-study-themes-from-the-original-video-game-soundtrack-2023/zthyypzwpy/22.%20Mysteries%20of%20the%20Cosmos.mp3',\n",
       "  'https://eta.vgmtreasurechest.com/soundtracks/hogwarts-legacy-study-themes-from-the-original-video-game-soundtrack-2023/gfnafcfeyb/21.%20A%20Focused%20Mind.mp3',\n",
       "  'https://eta.vgmtreasurechest.com/soundtracks/hogwarts-legacy-study-themes-from-the-original-video-game-soundtrack-2023/btlvzyirmz/19.%20The%20Quest%20Begins.mp3',\n",
       "  'https://eta.vgmtreasurechest.com/soundtracks/hogwarts-legacy-study-themes-from-the-original-video-game-soundtrack-2023/vbpwawwuxz/20.%20Forbidden%20Forest%20Waltz.mp3',\n",
       "  'https://eta.vgmtreasurechest.com/soundtracks/hogwarts-legacy-study-themes-from-the-original-video-game-soundtrack-2023/tefstkpzmb/18.%20A%20Delicate%20Art.mp3',\n",
       "  'https://eta.vgmtreasurechest.com/soundtracks/hogwarts-legacy-study-themes-from-the-original-video-game-soundtrack-2023/arzjrgvcbh/01.%20Your%20Journey%20Awaits....mp3',\n",
       "  'https://eta.vgmtreasurechest.com/soundtracks/hogwarts-legacy-study-themes-from-the-original-video-game-soundtrack-2023/qkcennlrny/25.%20A%20Faded%20Path.mp3',\n",
       "  'https://eta.vgmtreasurechest.com/soundtracks/hogwarts-legacy-study-themes-from-the-original-video-game-soundtrack-2023/arhnvcessr/26.%20Lost.mp3',\n",
       "  'https://eta.vgmtreasurechest.com/soundtracks/hogwarts-legacy-study-themes-from-the-original-video-game-soundtrack-2023/wpoipkmwpe/27.%20Outside%20the%20Castle%20Walls.mp3',\n",
       "  'https://eta.vgmtreasurechest.com/soundtracks/hogwarts-legacy-study-themes-from-the-original-video-game-soundtrack-2023/pvsjvmytvi/37.%20Hope%20Fades.mp3',\n",
       "  'https://eta.vgmtreasurechest.com/soundtracks/hogwarts-legacy-study-themes-from-the-original-video-game-soundtrack-2023/pxjqmikhjq/12.%20Contemplation.mp3',\n",
       "  'https://eta.vgmtreasurechest.com/soundtracks/hogwarts-legacy-study-themes-from-the-original-video-game-soundtrack-2023/xhnfumxoxb/10.%20Gateways%20to%20the%20Far%20Stars.mp3',\n",
       "  'https://eta.vgmtreasurechest.com/soundtracks/hogwarts-legacy-study-themes-from-the-original-video-game-soundtrack-2023/bptgfqzqfg/16.%20The%20Room%20of%20Hidden%20Things.mp3',\n",
       "  'https://eta.vgmtreasurechest.com/soundtracks/hogwarts-legacy-study-themes-from-the-original-video-game-soundtrack-2023/vqnwzeblaf/39.%20Ancient%20Magic%20Coda.mp3',\n",
       "  'https://eta.vgmtreasurechest.com/soundtracks/hogwarts-legacy-study-themes-from-the-original-video-game-soundtrack-2023/sjbairvhzs/24.%20Intra%20Muros.mp3',\n",
       "  'https://eta.vgmtreasurechest.com/soundtracks/hogwarts-legacy-study-themes-from-the-original-video-game-soundtrack-2023/atdortquaa/03.%20Slytherin%20Common%20Room.mp3'],\n",
       " 'Hogwarts Legacy (Original Video Game Soundtrack)': ['https://kappa.vgmsite.com/soundtracks/hogwarts-legacy-original-video-game-soundtrack-2023/smyxmtkrqn/04.%20A%20Proper%20Hogwarts%20Welcome.mp3',\n",
       "  'https://kappa.vgmsite.com/soundtracks/hogwarts-legacy-original-video-game-soundtrack-2023/fhalialuoj/06.%20Seeking%20the%20Keepers.mp3',\n",
       "  'https://kappa.vgmsite.com/soundtracks/hogwarts-legacy-original-video-game-soundtrack-2023/mcmddhxhde/03.%20Fig%27s%20Search.mp3',\n",
       "  'https://kappa.vgmsite.com/soundtracks/hogwarts-legacy-original-video-game-soundtrack-2023/qrznzhkjiy/02.%20The%20House%20Cup.mp3',\n",
       "  'https://kappa.vgmsite.com/soundtracks/hogwarts-legacy-original-video-game-soundtrack-2023/tnvskllqdm/17.%20Hog%27s%20Head%20Jig.mp3',\n",
       "  'https://kappa.vgmsite.com/soundtracks/hogwarts-legacy-original-video-game-soundtrack-2023/psyvzeuanw/31.%20The%20Room%20of%20Requirement.mp3',\n",
       "  'https://kappa.vgmsite.com/soundtracks/hogwarts-legacy-original-video-game-soundtrack-2023/mqffzmnmjj/13.%20Grasslands%20Vivarium.mp3',\n",
       "  'https://kappa.vgmsite.com/soundtracks/hogwarts-legacy-original-video-game-soundtrack-2023/hkeipvupxn/26.%20The%20Four%20Houses.mp3',\n",
       "  'https://kappa.vgmsite.com/soundtracks/hogwarts-legacy-original-video-game-soundtrack-2023/cfhzjgooln/08.%20A%20Lost%20Friend.mp3',\n",
       "  'https://kappa.vgmsite.com/soundtracks/hogwarts-legacy-original-video-game-soundtrack-2023/ikoxaoqirm/30.%20The%20Halls%20of%20Hogwarts.mp3',\n",
       "  'https://kappa.vgmsite.com/soundtracks/hogwarts-legacy-original-video-game-soundtrack-2023/iymnqyteah/23.%20The%20Greenhouse.mp3',\n",
       "  'https://kappa.vgmsite.com/soundtracks/hogwarts-legacy-original-video-game-soundtrack-2023/cfusycaidl/29.%20Haven.mp3',\n",
       "  'https://kappa.vgmsite.com/soundtracks/hogwarts-legacy-original-video-game-soundtrack-2023/laumkdfltq/25.%20Coastal%20Vivarium.mp3',\n",
       "  'https://kappa.vgmsite.com/soundtracks/hogwarts-legacy-original-video-game-soundtrack-2023/gcsbholeda/12.%20Miriam%27s%20Memory.mp3',\n",
       "  'https://kappa.vgmsite.com/soundtracks/hogwarts-legacy-original-video-game-soundtrack-2023/kwvbljqpjd/09.%20Everybody%20Grab%20a%20Broom.mp3',\n",
       "  'https://kappa.vgmsite.com/soundtracks/hogwarts-legacy-original-video-game-soundtrack-2023/jgxouxattz/20.%20Legacy%20of%20Magic.mp3',\n",
       "  'https://kappa.vgmsite.com/soundtracks/hogwarts-legacy-original-video-game-soundtrack-2023/cosnxxvsax/32.%20Niamh%27s%20Lullaby.mp3',\n",
       "  'https://kappa.vgmsite.com/soundtracks/hogwarts-legacy-original-video-game-soundtrack-2023/tbctbkbpai/11.%20Anticipating%20Rookwood.mp3',\n",
       "  'https://kappa.vgmsite.com/soundtracks/hogwarts-legacy-original-video-game-soundtrack-2023/mnydwfpplo/05.%20Potting%20Mandrakes.mp3',\n",
       "  'https://kappa.vgmsite.com/soundtracks/hogwarts-legacy-original-video-game-soundtrack-2023/yfbkpguhqx/22.%20A%20Portrait%20of%20Love.mp3',\n",
       "  'https://kappa.vgmsite.com/soundtracks/hogwarts-legacy-original-video-game-soundtrack-2023/gmbqlleipp/18.%20Guardians%20Awaken.mp3',\n",
       "  'https://kappa.vgmsite.com/soundtracks/hogwarts-legacy-original-video-game-soundtrack-2023/nkolgipiig/33.%20Trespassers.mp3',\n",
       "  'https://kappa.vgmsite.com/soundtracks/hogwarts-legacy-original-video-game-soundtrack-2023/qxieevfijb/15.%20Isidora%27s%20Pain.mp3',\n",
       "  'https://kappa.vgmsite.com/soundtracks/hogwarts-legacy-original-video-game-soundtrack-2023/cpshjebnma/21.%20Ruins%20of%20a%20Noted%20Seer.mp3',\n",
       "  'https://kappa.vgmsite.com/soundtracks/hogwarts-legacy-original-video-game-soundtrack-2023/oammioezxw/01.%20Overture%20to%20the%20Unwritten%20%28from%20Hogwarts%20Legacy%29.mp3',\n",
       "  'https://kappa.vgmsite.com/soundtracks/hogwarts-legacy-original-video-game-soundtrack-2023/xopksqegnj/27.%20You%27ve%20Made%20Your%20Choice.mp3',\n",
       "  'https://kappa.vgmsite.com/soundtracks/hogwarts-legacy-original-video-game-soundtrack-2023/hjyiejmuuo/28.%20Soaring%20over%20Hogwarts.mp3',\n",
       "  'https://kappa.vgmsite.com/soundtracks/hogwarts-legacy-original-video-game-soundtrack-2023/frogcdckto/19.%20Accio%21.mp3',\n",
       "  'https://kappa.vgmsite.com/soundtracks/hogwarts-legacy-original-video-game-soundtrack-2023/kezialrtuw/07.%20Ranrok%27s%20Rage.mp3',\n",
       "  'https://kappa.vgmsite.com/soundtracks/hogwarts-legacy-original-video-game-soundtrack-2023/zipvehodcq/34.%20Tribute.mp3',\n",
       "  'https://kappa.vgmsite.com/soundtracks/hogwarts-legacy-original-video-game-soundtrack-2023/qkyvsmyuiq/14.%20A%20Fitting%20New%20Home.mp3',\n",
       "  'https://kappa.vgmsite.com/soundtracks/hogwarts-legacy-original-video-game-soundtrack-2023/aazcjqbkky/24.%20Ollivander%27s%20Wand%20Shop.mp3',\n",
       "  'https://kappa.vgmsite.com/soundtracks/hogwarts-legacy-original-video-game-soundtrack-2023/lcmqplmrou/10.%20All%20Roads%20Lead%20to%20Hogsmeade.mp3',\n",
       "  'https://kappa.vgmsite.com/soundtracks/hogwarts-legacy-original-video-game-soundtrack-2023/zlxmxxbknm/16.%20See%20You%20After%20Class.mp3']}"
      ]
     },
     "execution_count": 21,
     "metadata": {},
     "output_type": "execute_result"
    }
   ],
   "source": [
    "urls = [\n",
    "    \"https://downloads.khinsider.com/game-soundtracks/album/hogwarts-legacy-study-themes-from-the-original-video-game-soundtrack-2023\",\n",
    "    \"https://downloads.khinsider.com/game-soundtracks/album/hogwarts-legacy-original-video-game-soundtrack-2023\"\n",
    "]\n",
    "data = {}\n",
    "for url in urls:\n",
    "    soup = parseUrl(url)\n",
    "    title = soup.find(\"h2\").text\n",
    "    files = []\n",
    "    for a_tag in soup.find_all('a'):\n",
    "        href = a_tag.get('href')\n",
    "        if href:\n",
    "            # Convert relative URLs to absolute URLs\n",
    "            full_url = urljoin(url, href)\n",
    "            if full_url.endswith('.mp3'):\n",
    "                files.append(full_url)\n",
    "    files = list(set(files))\n",
    "    srcs = []\n",
    "    for file in files:\n",
    "        soup = parseUrl(file)\n",
    "        for tag in soup.find_all(\"audio\"):\n",
    "            src = tag.get(\"src\")\n",
    "            srcs.append(src)\n",
    "    data[title] = srcs"
   ]
  },
  {
   "cell_type": "code",
   "execution_count": 22,
   "metadata": {},
   "outputs": [],
   "source": [
    "with open('music.json', 'w') as f:\n",
    "    json.dump(data, f, indent=4)"
   ]
  }
 ],
 "metadata": {
  "kernelspec": {
   "display_name": "flask",
   "language": "python",
   "name": "python3"
  },
  "language_info": {
   "codemirror_mode": {
    "name": "ipython",
    "version": 3
   },
   "file_extension": ".py",
   "mimetype": "text/x-python",
   "name": "python",
   "nbconvert_exporter": "python",
   "pygments_lexer": "ipython3",
   "version": "3.11.10"
  }
 },
 "nbformat": 4,
 "nbformat_minor": 2
}
